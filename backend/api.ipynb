{
 "cells": [
  {
   "cell_type": "code",
   "execution_count": 6,
   "metadata": {},
   "outputs": [],
   "source": [
    "import pandas as pd\n",
    "df = pd.read_csv('..\\data\\social_media_engagement.csv')"
   ]
  },
  {
   "cell_type": "code",
   "execution_count": 8,
   "metadata": {},
   "outputs": [
    {
     "data": {
      "text/plain": [
       "Post_ID      d1af657a-6e97-4ec0-b6ec-5006386bdac5\n",
       "Post_Type                            static_image\n",
       "Likes                                         387\n",
       "Shares                                        257\n",
       "Comments                                       58\n",
       "Views                                         721\n",
       "Post_Date                              2024-05-26\n",
       "Name: 0, dtype: object"
      ]
     },
     "execution_count": 8,
     "metadata": {},
     "output_type": "execute_result"
    }
   ],
   "source": [
    "df.iloc[0]"
   ]
  },
  {
   "cell_type": "code",
   "execution_count": null,
   "metadata": {},
   "outputs": [],
   "source": [
    "Post_ID\tPost_Type\tLikes\tShares\tComments\tViews\tPost_Date\n",
    "0\td1af657a-6e97-4ec0-b6ec-5006386bdac5\tstatic_image\t387\t257\t58\t721\t2024-05-26"
   ]
  }
 ],
 "metadata": {
  "kernelspec": {
   "display_name": "Python 3",
   "language": "python",
   "name": "python3"
  },
  "language_info": {
   "codemirror_mode": {
    "name": "ipython",
    "version": 3
   },
   "file_extension": ".py",
   "mimetype": "text/x-python",
   "name": "python",
   "nbconvert_exporter": "python",
   "pygments_lexer": "ipython3",
   "version": "3.10.10"
  }
 },
 "nbformat": 4,
 "nbformat_minor": 2
}
